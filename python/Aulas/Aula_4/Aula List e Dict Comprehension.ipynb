{
 "cells": [
  {
   "attachments": {},
   "cell_type": "markdown",
   "metadata": {},
   "source": [
    "# Comprehension\n",
    "\n",
    "Uma maneira bastante concisa que o Python fornece para a criação de sequencias (listas, tuplas, dicionários, strings, etc).\n",
    "\n",
    "**Sintaxe:**\n",
    "\n",
    "```python\n",
    "listasaida = [expressão for var in listaentrada]\n",
    "\n",
    "listasaida = [expressão for var in listaentrada if condição]\n",
    "```"
   ]
  },
  {
   "attachments": {},
   "cell_type": "markdown",
   "metadata": {},
   "source": [
    "### List Comprehension"
   ]
  },
  {
   "cell_type": "code",
   "execution_count": 1,
   "metadata": {},
   "outputs": [],
   "source": [
    "# Cria uma lista com a elevação quadrada de cada número de 0 à 9\n",
    "lista = []\n",
    "for item in range(10):\n",
    "    lista.append(item**2)\n",
    "\n",
    "lista"
   ]
  },
  {
   "cell_type": "code",
   "execution_count": 3,
   "metadata": {},
   "outputs": [
    {
     "data": {
      "text/plain": [
       "[0, 1, 4, 9, 16, 25, 36, 49, 64, 81]"
      ]
     },
     "execution_count": 3,
     "metadata": {},
     "output_type": "execute_result"
    }
   ],
   "source": [
    "# Cria uma lista com a elevação quadrada de cada número de 0 à 9\n",
    "lista_2 = [item**2 for item in range(10)]\n",
    "\n",
    "lista_2"
   ]
  },
  {
   "cell_type": "code",
   "execution_count": 14,
   "metadata": {},
   "outputs": [
    {
     "data": {
      "text/plain": [
       "['A',\n",
       " ' ',\n",
       " 'L',\n",
       " 'I',\n",
       " 'G',\n",
       " 'E',\n",
       " 'I',\n",
       " 'R',\n",
       " 'A',\n",
       " ' ',\n",
       " 'R',\n",
       " 'A',\n",
       " 'P',\n",
       " 'O',\n",
       " 'S',\n",
       " 'A',\n",
       " ' ',\n",
       " 'M',\n",
       " 'A',\n",
       " 'R',\n",
       " 'R',\n",
       " 'O',\n",
       " 'N',\n",
       " ' ',\n",
       " 'S',\n",
       " 'A',\n",
       " 'L',\n",
       " 'T',\n",
       " 'O',\n",
       " 'U',\n",
       " ' ',\n",
       " 'S',\n",
       " 'O',\n",
       " 'B',\n",
       " 'R',\n",
       " 'E',\n",
       " ' ',\n",
       " 'O',\n",
       " ' ',\n",
       " 'C',\n",
       " 'Ã',\n",
       " 'O',\n",
       " ' ',\n",
       " 'P',\n",
       " 'R',\n",
       " 'E',\n",
       " 'G',\n",
       " 'U',\n",
       " 'I',\n",
       " 'Ç',\n",
       " 'O',\n",
       " 'S',\n",
       " 'O']"
      ]
     },
     "execution_count": 14,
     "metadata": {},
     "output_type": "execute_result"
    }
   ],
   "source": [
    "# Transforma os itens da lista em maiúsculos:\n",
    "resultado = []\n",
    "for item in \"A ligeira raposa marron saltou sobre o cão preguiçoso\":\n",
    "    resultado.append(str(item).upper())\n",
    "\n",
    "resultado"
   ]
  },
  {
   "cell_type": "code",
   "execution_count": 15,
   "metadata": {},
   "outputs": [
    {
     "data": {
      "text/plain": [
       "['A',\n",
       " ' ',\n",
       " 'L',\n",
       " 'I',\n",
       " 'G',\n",
       " 'E',\n",
       " 'I',\n",
       " 'R',\n",
       " 'A',\n",
       " ' ',\n",
       " 'R',\n",
       " 'A',\n",
       " 'P',\n",
       " 'O',\n",
       " 'S',\n",
       " 'A',\n",
       " ' ',\n",
       " 'M',\n",
       " 'A',\n",
       " 'R',\n",
       " 'R',\n",
       " 'O',\n",
       " 'N',\n",
       " ' ',\n",
       " 'S',\n",
       " 'A',\n",
       " 'L',\n",
       " 'T',\n",
       " 'O',\n",
       " 'U',\n",
       " ' ',\n",
       " 'S',\n",
       " 'O',\n",
       " 'B',\n",
       " 'R',\n",
       " 'E',\n",
       " ' ',\n",
       " 'O',\n",
       " ' ',\n",
       " 'C',\n",
       " 'Ã',\n",
       " 'O',\n",
       " ' ',\n",
       " 'P',\n",
       " 'R',\n",
       " 'E',\n",
       " 'G',\n",
       " 'U',\n",
       " 'I',\n",
       " 'Ç',\n",
       " 'O',\n",
       " 'S',\n",
       " 'O']"
      ]
     },
     "execution_count": 15,
     "metadata": {},
     "output_type": "execute_result"
    }
   ],
   "source": [
    "resultado_2 = [str(item).upper() for item in \"A ligeira raposa marron saltou sobre o cão preguiçoso\"]\n",
    "\n",
    "resultado"
   ]
  },
  {
   "cell_type": "code",
   "execution_count": 10,
   "metadata": {},
   "outputs": [
    {
     "name": "stdout",
     "output_type": "stream",
     "text": [
      "Os elementos ímpares são:\n",
      " [1, 3, 5, 7, 9, 11, 13, 15, 17, 19]\n"
     ]
    }
   ],
   "source": [
    "# Obtém todos os números ímpares\n",
    "list_impar = []\n",
    "for n in range(20):\n",
    "    if (n % 2) == 1:\n",
    "        list_impar.append(n)\n",
    "\n",
    "print(\"Os elementos ímpares são:\\n\", list_impar)"
   ]
  },
  {
   "cell_type": "code",
   "execution_count": 17,
   "metadata": {},
   "outputs": [
    {
     "name": "stdout",
     "output_type": "stream",
     "text": [
      "Os elementos ímpares são:\n",
      " [11, 13, 15, 17, 19]\n"
     ]
    }
   ],
   "source": [
    "# Obtém todos os números ímpares\n",
    "list_impar = [numero for numero in range(20) if (numero % 2 == 1)]\n",
    "\n",
    "print(\"Os elementos ímpares são:\\n\", list_impar)"
   ]
  },
  {
   "cell_type": "code",
   "execution_count": null,
   "metadata": {},
   "outputs": [],
   "source": [
    "# Obtém todos os números ímpares maiores que 10\n",
    "list_impar = [numero for numero in range(20) if (numero % 2 == 1) and (numero > 10)]\n",
    "\n",
    "print(\"Os elementos ímpares são:\\n\", list_impar)"
   ]
  },
  {
   "cell_type": "code",
   "execution_count": 16,
   "metadata": {},
   "outputs": [
    {
     "name": "stdout",
     "output_type": "stream",
     "text": [
      "['número PAR', 'número ímpar', 'número PAR', 'número ímpar', 'número PAR', 'número ímpar', 'número PAR', 'número ímpar']\n"
     ]
    }
   ],
   "source": [
    "# Expressão condicional na resposta\n",
    "list_par_impar = [\"número PAR\" if i % 2 == 0 else \"número ímpar\" for i in range(8)]\n",
    "print(list_par_impar)"
   ]
  },
  {
   "attachments": {},
   "cell_type": "markdown",
   "metadata": {},
   "source": [
    "### Dict Comprehension"
   ]
  },
  {
   "cell_type": "code",
   "execution_count": 19,
   "metadata": {},
   "outputs": [
    {
     "name": "stdout",
     "output_type": "stream",
     "text": [
      "{0: 0, 2: 4, 4: 16, 6: 36, 8: 64}\n"
     ]
    }
   ],
   "source": [
    "# Cria um dicionário no qual os valores são as chaves elevado ao quadrado\n",
    "numeros = range(10)\n",
    "novo_dicionario_for = {}\n",
    "\n",
    "for n in numeros:\n",
    "    if n%2==0:\n",
    "        novo_dicionario_for[n] = n**2\n",
    "\n",
    "print(novo_dicionario_for)"
   ]
  },
  {
   "cell_type": "code",
   "execution_count": 20,
   "metadata": {},
   "outputs": [
    {
     "name": "stdout",
     "output_type": "stream",
     "text": [
      "{0: 0, 2: 4, 4: 16, 6: 36, 8: 64}\n"
     ]
    }
   ],
   "source": [
    "# Cria um dicionário no qual os valores são as chaves elevado ao quadrado\n",
    "numeros = range(10)\n",
    "novo_dicionario_comp = {n:n**2 for n in numeros if n%2 == 0}\n",
    "\n",
    "print(novo_dicionario_comp)"
   ]
  }
 ],
 "metadata": {
  "kernelspec": {
   "display_name": "Python 3",
   "language": "python",
   "name": "python3"
  },
  "language_info": {
   "codemirror_mode": {
    "name": "ipython",
    "version": 3
   },
   "file_extension": ".py",
   "mimetype": "text/x-python",
   "name": "python",
   "nbconvert_exporter": "python",
   "pygments_lexer": "ipython3",
   "version": "3.8.13"
  }
 },
 "nbformat": 4,
 "nbformat_minor": 2
}
