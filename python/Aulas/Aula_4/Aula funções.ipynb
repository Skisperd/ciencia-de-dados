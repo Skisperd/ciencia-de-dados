{
 "cells": [
  {
   "cell_type": "markdown",
   "metadata": {},
   "source": [
    "# Funções\n",
    "\n",
    "```python\n",
    "def func(lista de parâmetros):\n",
    "    \"\"\"\n",
    "    Documentation String\n",
    "    \"\"\"\n",
    "    bloco de comandos\n",
    "    return # opcional\n",
    "```\n",
    "       \n"
   ]
  },
  {
   "cell_type": "code",
   "execution_count": null,
   "metadata": {},
   "outputs": [],
   "source": [
    "# Exemplo 1\n",
    "def func_01(a):\n",
    "    \"\"\"\n",
    "    Esse é o documentation string (docstring) da função func_01.\n",
    "    Essa função simplesmente imprime o valor do argumento passado por parâmetro.\n",
    "    \"\"\"\n",
    "    print(a)"
   ]
  },
  {
   "cell_type": "code",
   "execution_count": null,
   "metadata": {},
   "outputs": [],
   "source": [
    "func_01(5)"
   ]
  },
  {
   "cell_type": "code",
   "execution_count": null,
   "metadata": {},
   "outputs": [],
   "source": [
    "func_01(\"Python\")"
   ]
  },
  {
   "cell_type": "code",
   "execution_count": null,
   "metadata": {},
   "outputs": [],
   "source": [
    "func_01([1, 2, 3, 4])"
   ]
  },
  {
   "cell_type": "code",
   "execution_count": null,
   "metadata": {},
   "outputs": [],
   "source": [
    "# Exemplo 2\n",
    "def inc(num):\n",
    "    \"\"\"\n",
    "    Exemplo de função com retorno de valor. Essa função recebe um parâmetro, então o incrementa e retorna.\n",
    "    \"\"\"\n",
    "    return num + 1"
   ]
  },
  {
   "cell_type": "code",
   "execution_count": null,
   "metadata": {},
   "outputs": [],
   "source": [
    "a = inc(3)\n",
    "a"
   ]
  },
  {
   "cell_type": "code",
   "execution_count": null,
   "metadata": {},
   "outputs": [],
   "source": [
    "b = inc(99)\n",
    "b"
   ]
  },
  {
   "cell_type": "code",
   "execution_count": null,
   "metadata": {},
   "outputs": [],
   "source": [
    "# Exemplo 3\n",
    "def raiz(r, num):\n",
    "    \"\"\"\n",
    "    Calcula raízes através da operação de potência.\n",
    "    \"\"\"\n",
    "    return num ** (1/r)"
   ]
  },
  {
   "cell_type": "code",
   "execution_count": null,
   "metadata": {},
   "outputs": [],
   "source": [
    "a = raiz(2, 16)\n",
    "a"
   ]
  },
  {
   "cell_type": "code",
   "execution_count": null,
   "metadata": {},
   "outputs": [],
   "source": [
    "b = raiz(3, 27)\n",
    "b"
   ]
  },
  {
   "cell_type": "code",
   "execution_count": null,
   "metadata": {},
   "outputs": [],
   "source": [
    "c = raiz(5, 243) # Argumentos posicionais\n",
    "c"
   ]
  },
  {
   "cell_type": "code",
   "execution_count": null,
   "metadata": {},
   "outputs": [],
   "source": [
    "d = raiz(num = 81, r = 2) # Argumentos nomeados\n",
    "d"
   ]
  },
  {
   "cell_type": "code",
   "execution_count": null,
   "metadata": {},
   "outputs": [],
   "source": [
    "# Exemplo 3 - parâmetros default\n",
    "def raiz(num, r = 2):\n",
    "    \"\"\"\n",
    "    Calcula raízes através da operação de potência.\n",
    "    \"\"\"\n",
    "    return num ** (1/r)"
   ]
  },
  {
   "cell_type": "code",
   "execution_count": null,
   "metadata": {},
   "outputs": [],
   "source": [
    "a = raiz(16)\n",
    "a"
   ]
  },
  {
   "cell_type": "code",
   "execution_count": null,
   "metadata": {},
   "outputs": [],
   "source": [
    "b = raiz(32, 5)\n",
    "b"
   ]
  },
  {
   "cell_type": "code",
   "execution_count": 1,
   "metadata": {},
   "outputs": [],
   "source": [
    "# Exemplo 04\n",
    "def soma(*args):\n",
    "    \"\"\"\n",
    "    Exemplo de função usando parâmetros arbitrários\n",
    "    \"\"\"\n",
    "    print(type(args))\n",
    "    soma = 0\n",
    "    for num in args:\n",
    "        soma += num\n",
    "    return soma"
   ]
  },
  {
   "cell_type": "code",
   "execution_count": 2,
   "metadata": {},
   "outputs": [
    {
     "name": "stdout",
     "output_type": "stream",
     "text": [
      "<class 'tuple'>\n"
     ]
    },
    {
     "data": {
      "text/plain": [
       "31"
      ]
     },
     "execution_count": 2,
     "metadata": {},
     "output_type": "execute_result"
    }
   ],
   "source": [
    "soma(2, 5, 4, 2, 8,7, 1, 0, 2)"
   ]
  },
  {
   "cell_type": "code",
   "execution_count": 23,
   "metadata": {},
   "outputs": [],
   "source": [
    "# Exemplo 05\n",
    "def soma_idade(**kwargs):\n",
    "    \"\"\"\n",
    "    Exemplo de função usando parâmetros arbitrários 2\n",
    "    \"\"\"\n",
    "    print(\"Tipo de objeto\\n\",type(kwargs))\n",
    "    \n",
    "    print(\"\\nExibe as chaves\")\n",
    "    for args in kwargs:\n",
    "        print(args)\n",
    "\n",
    "    print(\"\\nExibe os valores\")\n",
    "    for args in kwargs.values():\n",
    "        print(args)\n",
    "\n",
    "    print(\"\\nExibe Chave e Valor\")\n",
    "    for key, value in kwargs.items():\n",
    "        print(key, value)"
   ]
  },
  {
   "cell_type": "code",
   "execution_count": 22,
   "metadata": {},
   "outputs": [
    {
     "name": "stdout",
     "output_type": "stream",
     "text": [
      "Tipo de objeto\n",
      " <class 'dict'>\n",
      "\n",
      "Exibe as chaves\n",
      "reinaldo\n",
      "Carine\n",
      "\n",
      "Exibe os valores\n",
      "10\n",
      "25\n",
      "\n",
      "Exibe Chave e Valor\n",
      "reinaldo 10\n",
      "Carine 25\n"
     ]
    }
   ],
   "source": [
    "soma_idade(reinaldo=10, Carine=25)"
   ]
  }
 ],
 "metadata": {
  "kernelspec": {
   "display_name": "Python 3",
   "language": "python",
   "name": "python3"
  },
  "language_info": {
   "codemirror_mode": {
    "name": "ipython",
    "version": 3
   },
   "file_extension": ".py",
   "mimetype": "text/x-python",
   "name": "python",
   "nbconvert_exporter": "python",
   "pygments_lexer": "ipython3",
   "version": "3.8.13"
  }
 },
 "nbformat": 4,
 "nbformat_minor": 2
}
