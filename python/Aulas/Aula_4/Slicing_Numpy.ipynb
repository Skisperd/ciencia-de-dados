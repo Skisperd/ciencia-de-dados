{
  "nbformat": 4,
  "nbformat_minor": 0,
  "metadata": {
    "colab": {
      "provenance": []
    },
    "kernelspec": {
      "name": "python3",
      "display_name": "Python 3"
    },
    "language_info": {
      "name": "python"
    }
  },
  "cells": [
    {
      "cell_type": "code",
      "execution_count": 1,
      "metadata": {
        "id": "iucTD2PnaID1"
      },
      "outputs": [],
      "source": [
        "import numpy as np"
      ]
    },
    {
      "cell_type": "code",
      "source": [
        "array_exemplo = np.array(\n",
        "    [\n",
        "      [0,1,2,3,4,5],\n",
        "      [10,11,12,13,14,15],\n",
        "      [20,21,22,23,24,25],\n",
        "      [30,31,32,33,34,35],\n",
        "      [40,41,42,43,44,45],\n",
        "      [50,51,52,53,54,55]\n",
        "    ]\n",
        ")"
      ],
      "metadata": {
        "id": "HofTOyquaT_b"
      },
      "execution_count": 2,
      "outputs": []
    },
    {
      "cell_type": "code",
      "source": [
        "# array_exemplo"
      ],
      "metadata": {
        "id": "zwMmq6TLa2s4"
      },
      "execution_count": 15,
      "outputs": []
    },
    {
      "cell_type": "code",
      "source": [
        "# array_exemplo[0, 3:5]"
      ],
      "metadata": {
        "id": "IYUZTzbka4NX"
      },
      "execution_count": 14,
      "outputs": []
    },
    {
      "cell_type": "code",
      "source": [
        "# array_exemplo[:,2]"
      ],
      "metadata": {
        "id": "xMik2PHza71a"
      },
      "execution_count": 13,
      "outputs": []
    },
    {
      "cell_type": "code",
      "source": [
        "# array_exemplo[2::2, ::2]"
      ],
      "metadata": {
        "id": "17PUNxAabIX1"
      },
      "execution_count": 12,
      "outputs": []
    },
    {
      "cell_type": "code",
      "source": [],
      "metadata": {
        "id": "g08jRKqEbgr9"
      },
      "execution_count": null,
      "outputs": []
    }
  ]
}